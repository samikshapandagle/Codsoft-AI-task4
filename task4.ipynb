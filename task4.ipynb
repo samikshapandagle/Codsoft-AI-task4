{
 "cells": [
  {
   "cell_type": "markdown",
   "id": "78e6eef5-0b6e-4626-ab96-c8cc890d952c",
   "metadata": {},
   "source": [
    "# Task 4"
   ]
  },
  {
   "cell_type": "code",
   "execution_count": 44,
   "id": "620e371a-8864-4277-a13c-5c4fa74ebfce",
   "metadata": {},
   "outputs": [],
   "source": [
    "import pandas as pd"
   ]
  },
  {
   "cell_type": "code",
   "execution_count": 45,
   "id": "da41b0c1-ada3-4647-bfcd-4363ab5a336f",
   "metadata": {},
   "outputs": [],
   "source": [
    "df = pd.read_csv(\"spotify_millsongdata.csv\")"
   ]
  },
  {
   "cell_type": "code",
   "execution_count": 46,
   "id": "9ef6dab4-913a-40df-84b4-bfdbe0f348ca",
   "metadata": {},
   "outputs": [
    {
     "data": {
      "text/html": [
       "<div>\n",
       "<style scoped>\n",
       "    .dataframe tbody tr th:only-of-type {\n",
       "        vertical-align: middle;\n",
       "    }\n",
       "\n",
       "    .dataframe tbody tr th {\n",
       "        vertical-align: top;\n",
       "    }\n",
       "\n",
       "    .dataframe thead th {\n",
       "        text-align: right;\n",
       "    }\n",
       "</style>\n",
       "<table border=\"1\" class=\"dataframe\">\n",
       "  <thead>\n",
       "    <tr style=\"text-align: right;\">\n",
       "      <th></th>\n",
       "      <th>artist</th>\n",
       "      <th>song</th>\n",
       "      <th>link</th>\n",
       "      <th>text</th>\n",
       "    </tr>\n",
       "  </thead>\n",
       "  <tbody>\n",
       "    <tr>\n",
       "      <th>0</th>\n",
       "      <td>ABBA</td>\n",
       "      <td>Ahe's My Kind Of Girl</td>\n",
       "      <td>/a/abba/ahes+my+kind+of+girl_20598417.html</td>\n",
       "      <td>Look at her face, it's a wonderful face  \\r\\nA...</td>\n",
       "    </tr>\n",
       "    <tr>\n",
       "      <th>1</th>\n",
       "      <td>ABBA</td>\n",
       "      <td>Andante, Andante</td>\n",
       "      <td>/a/abba/andante+andante_20002708.html</td>\n",
       "      <td>Take it easy with me, please  \\r\\nTouch me gen...</td>\n",
       "    </tr>\n",
       "    <tr>\n",
       "      <th>2</th>\n",
       "      <td>ABBA</td>\n",
       "      <td>As Good As New</td>\n",
       "      <td>/a/abba/as+good+as+new_20003033.html</td>\n",
       "      <td>I'll never know why I had to go  \\r\\nWhy I had...</td>\n",
       "    </tr>\n",
       "    <tr>\n",
       "      <th>3</th>\n",
       "      <td>ABBA</td>\n",
       "      <td>Bang</td>\n",
       "      <td>/a/abba/bang_20598415.html</td>\n",
       "      <td>Making somebody happy is a question of give an...</td>\n",
       "    </tr>\n",
       "    <tr>\n",
       "      <th>4</th>\n",
       "      <td>ABBA</td>\n",
       "      <td>Bang-A-Boomerang</td>\n",
       "      <td>/a/abba/bang+a+boomerang_20002668.html</td>\n",
       "      <td>Making somebody happy is a question of give an...</td>\n",
       "    </tr>\n",
       "  </tbody>\n",
       "</table>\n",
       "</div>"
      ],
      "text/plain": [
       "  artist                   song                                        link  \\\n",
       "0   ABBA  Ahe's My Kind Of Girl  /a/abba/ahes+my+kind+of+girl_20598417.html   \n",
       "1   ABBA       Andante, Andante       /a/abba/andante+andante_20002708.html   \n",
       "2   ABBA         As Good As New        /a/abba/as+good+as+new_20003033.html   \n",
       "3   ABBA                   Bang                  /a/abba/bang_20598415.html   \n",
       "4   ABBA       Bang-A-Boomerang      /a/abba/bang+a+boomerang_20002668.html   \n",
       "\n",
       "                                                text  \n",
       "0  Look at her face, it's a wonderful face  \\r\\nA...  \n",
       "1  Take it easy with me, please  \\r\\nTouch me gen...  \n",
       "2  I'll never know why I had to go  \\r\\nWhy I had...  \n",
       "3  Making somebody happy is a question of give an...  \n",
       "4  Making somebody happy is a question of give an...  "
      ]
     },
     "execution_count": 46,
     "metadata": {},
     "output_type": "execute_result"
    }
   ],
   "source": [
    "df.head(5)"
   ]
  },
  {
   "cell_type": "code",
   "execution_count": 47,
   "id": "c5794ef7-23bd-4fa1-a77c-7e6f62335a66",
   "metadata": {},
   "outputs": [
    {
     "data": {
      "text/html": [
       "<div>\n",
       "<style scoped>\n",
       "    .dataframe tbody tr th:only-of-type {\n",
       "        vertical-align: middle;\n",
       "    }\n",
       "\n",
       "    .dataframe tbody tr th {\n",
       "        vertical-align: top;\n",
       "    }\n",
       "\n",
       "    .dataframe thead th {\n",
       "        text-align: right;\n",
       "    }\n",
       "</style>\n",
       "<table border=\"1\" class=\"dataframe\">\n",
       "  <thead>\n",
       "    <tr style=\"text-align: right;\">\n",
       "      <th></th>\n",
       "      <th>artist</th>\n",
       "      <th>song</th>\n",
       "      <th>link</th>\n",
       "      <th>text</th>\n",
       "    </tr>\n",
       "  </thead>\n",
       "  <tbody>\n",
       "    <tr>\n",
       "      <th>57645</th>\n",
       "      <td>Ziggy Marley</td>\n",
       "      <td>Good Old Days</td>\n",
       "      <td>/z/ziggy+marley/good+old+days_10198588.html</td>\n",
       "      <td>Irie days come on play  \\r\\nLet the angels fly...</td>\n",
       "    </tr>\n",
       "    <tr>\n",
       "      <th>57646</th>\n",
       "      <td>Ziggy Marley</td>\n",
       "      <td>Hand To Mouth</td>\n",
       "      <td>/z/ziggy+marley/hand+to+mouth_20531167.html</td>\n",
       "      <td>Power to the workers  \\r\\nMore power  \\r\\nPowe...</td>\n",
       "    </tr>\n",
       "    <tr>\n",
       "      <th>57647</th>\n",
       "      <td>Zwan</td>\n",
       "      <td>Come With Me</td>\n",
       "      <td>/z/zwan/come+with+me_20148981.html</td>\n",
       "      <td>all you need  \\r\\nis something i'll believe  \\...</td>\n",
       "    </tr>\n",
       "    <tr>\n",
       "      <th>57648</th>\n",
       "      <td>Zwan</td>\n",
       "      <td>Desire</td>\n",
       "      <td>/z/zwan/desire_20148986.html</td>\n",
       "      <td>northern star  \\r\\nam i frightened  \\r\\nwhere ...</td>\n",
       "    </tr>\n",
       "    <tr>\n",
       "      <th>57649</th>\n",
       "      <td>Zwan</td>\n",
       "      <td>Heartsong</td>\n",
       "      <td>/z/zwan/heartsong_20148991.html</td>\n",
       "      <td>come in  \\r\\nmake yourself at home  \\r\\ni'm a ...</td>\n",
       "    </tr>\n",
       "  </tbody>\n",
       "</table>\n",
       "</div>"
      ],
      "text/plain": [
       "             artist           song  \\\n",
       "57645  Ziggy Marley  Good Old Days   \n",
       "57646  Ziggy Marley  Hand To Mouth   \n",
       "57647          Zwan   Come With Me   \n",
       "57648          Zwan         Desire   \n",
       "57649          Zwan      Heartsong   \n",
       "\n",
       "                                              link  \\\n",
       "57645  /z/ziggy+marley/good+old+days_10198588.html   \n",
       "57646  /z/ziggy+marley/hand+to+mouth_20531167.html   \n",
       "57647           /z/zwan/come+with+me_20148981.html   \n",
       "57648                 /z/zwan/desire_20148986.html   \n",
       "57649              /z/zwan/heartsong_20148991.html   \n",
       "\n",
       "                                                    text  \n",
       "57645  Irie days come on play  \\r\\nLet the angels fly...  \n",
       "57646  Power to the workers  \\r\\nMore power  \\r\\nPowe...  \n",
       "57647  all you need  \\r\\nis something i'll believe  \\...  \n",
       "57648  northern star  \\r\\nam i frightened  \\r\\nwhere ...  \n",
       "57649  come in  \\r\\nmake yourself at home  \\r\\ni'm a ...  "
      ]
     },
     "execution_count": 47,
     "metadata": {},
     "output_type": "execute_result"
    }
   ],
   "source": [
    "df.tail(5)"
   ]
  },
  {
   "cell_type": "code",
   "execution_count": 48,
   "id": "1fd78147-ffd1-4544-bb41-d3cb14d03a23",
   "metadata": {},
   "outputs": [
    {
     "data": {
      "text/plain": [
       "(57650, 4)"
      ]
     },
     "execution_count": 48,
     "metadata": {},
     "output_type": "execute_result"
    }
   ],
   "source": [
    "df.shape"
   ]
  },
  {
   "cell_type": "code",
   "execution_count": 49,
   "id": "20e8d444-de88-4f55-a82c-256120f68f23",
   "metadata": {},
   "outputs": [
    {
     "data": {
      "text/plain": [
       "artist    0\n",
       "song      0\n",
       "link      0\n",
       "text      0\n",
       "dtype: int64"
      ]
     },
     "execution_count": 49,
     "metadata": {},
     "output_type": "execute_result"
    }
   ],
   "source": [
    "df.isnull().sum()"
   ]
  },
  {
   "cell_type": "code",
   "execution_count": 50,
   "id": "e969af17-ab03-4689-b9e3-c33e73cce02f",
   "metadata": {},
   "outputs": [],
   "source": [
    "df =df.sample(5000).drop('link', axis=1).reset_index(drop=True)"
   ]
  },
  {
   "cell_type": "code",
   "execution_count": 51,
   "id": "1541fd19-8fb9-4f46-9008-d9525c07add7",
   "metadata": {},
   "outputs": [
    {
     "data": {
      "text/html": [
       "<div>\n",
       "<style scoped>\n",
       "    .dataframe tbody tr th:only-of-type {\n",
       "        vertical-align: middle;\n",
       "    }\n",
       "\n",
       "    .dataframe tbody tr th {\n",
       "        vertical-align: top;\n",
       "    }\n",
       "\n",
       "    .dataframe thead th {\n",
       "        text-align: right;\n",
       "    }\n",
       "</style>\n",
       "<table border=\"1\" class=\"dataframe\">\n",
       "  <thead>\n",
       "    <tr style=\"text-align: right;\">\n",
       "      <th></th>\n",
       "      <th>artist</th>\n",
       "      <th>song</th>\n",
       "      <th>text</th>\n",
       "    </tr>\n",
       "  </thead>\n",
       "  <tbody>\n",
       "    <tr>\n",
       "      <th>0</th>\n",
       "      <td>Genesis</td>\n",
       "      <td>Open Door</td>\n",
       "      <td>I see your smiling face, by the open door  \\r\\...</td>\n",
       "    </tr>\n",
       "    <tr>\n",
       "      <th>1</th>\n",
       "      <td>Whitesnake</td>\n",
       "      <td>Fool For Your Loving</td>\n",
       "      <td>I was born under a bad sign, left out in the c...</td>\n",
       "    </tr>\n",
       "    <tr>\n",
       "      <th>2</th>\n",
       "      <td>Allman Brothers Band</td>\n",
       "      <td>Old Friend</td>\n",
       "      <td>You know hard times, just an old friend, just ...</td>\n",
       "    </tr>\n",
       "    <tr>\n",
       "      <th>3</th>\n",
       "      <td>Townes Van Zandt</td>\n",
       "      <td>Highway Kind</td>\n",
       "      <td>My days, they are the highway kind  \\r\\nThey o...</td>\n",
       "    </tr>\n",
       "    <tr>\n",
       "      <th>4</th>\n",
       "      <td>Norah Jones</td>\n",
       "      <td>Tragedy</td>\n",
       "      <td>[Intro]  \\r\\nIt's a tragedy  \\r\\nIt's a traged...</td>\n",
       "    </tr>\n",
       "    <tr>\n",
       "      <th>5</th>\n",
       "      <td>Whitesnake</td>\n",
       "      <td>Girl</td>\n",
       "      <td>I have never known a woman  \\r\\nWho loves me l...</td>\n",
       "    </tr>\n",
       "    <tr>\n",
       "      <th>6</th>\n",
       "      <td>Britney Spears</td>\n",
       "      <td>My Prerogative</td>\n",
       "      <td>People can take everything away from you  \\r\\n...</td>\n",
       "    </tr>\n",
       "    <tr>\n",
       "      <th>7</th>\n",
       "      <td>Loretta Lynn</td>\n",
       "      <td>Farther To Go</td>\n",
       "      <td>I've been up to the top of a heartbreak mounta...</td>\n",
       "    </tr>\n",
       "    <tr>\n",
       "      <th>8</th>\n",
       "      <td>Neil Sedaka</td>\n",
       "      <td>The Hungry Years</td>\n",
       "      <td>Girl we made it to the top  \\r\\nwe went so hig...</td>\n",
       "    </tr>\n",
       "    <tr>\n",
       "      <th>9</th>\n",
       "      <td>Savage Garden</td>\n",
       "      <td>I Want You</td>\n",
       "      <td>Anytime I need to see your face I just close m...</td>\n",
       "    </tr>\n",
       "  </tbody>\n",
       "</table>\n",
       "</div>"
      ],
      "text/plain": [
       "                 artist                  song  \\\n",
       "0               Genesis             Open Door   \n",
       "1            Whitesnake  Fool For Your Loving   \n",
       "2  Allman Brothers Band            Old Friend   \n",
       "3      Townes Van Zandt          Highway Kind   \n",
       "4           Norah Jones               Tragedy   \n",
       "5            Whitesnake                  Girl   \n",
       "6        Britney Spears        My Prerogative   \n",
       "7          Loretta Lynn         Farther To Go   \n",
       "8           Neil Sedaka      The Hungry Years   \n",
       "9         Savage Garden            I Want You   \n",
       "\n",
       "                                                text  \n",
       "0  I see your smiling face, by the open door  \\r\\...  \n",
       "1  I was born under a bad sign, left out in the c...  \n",
       "2  You know hard times, just an old friend, just ...  \n",
       "3  My days, they are the highway kind  \\r\\nThey o...  \n",
       "4  [Intro]  \\r\\nIt's a tragedy  \\r\\nIt's a traged...  \n",
       "5  I have never known a woman  \\r\\nWho loves me l...  \n",
       "6  People can take everything away from you  \\r\\n...  \n",
       "7  I've been up to the top of a heartbreak mounta...  \n",
       "8  Girl we made it to the top  \\r\\nwe went so hig...  \n",
       "9  Anytime I need to see your face I just close m...  "
      ]
     },
     "execution_count": 51,
     "metadata": {},
     "output_type": "execute_result"
    }
   ],
   "source": [
    "df.head(10)"
   ]
  },
  {
   "cell_type": "code",
   "execution_count": 52,
   "id": "97654d0b-b883-4eab-bd80-3133d67735cf",
   "metadata": {},
   "outputs": [
    {
     "data": {
      "text/plain": [
       "\"I see your smiling face, by the open door  \\r\\nThere's the morning light  \\r\\nShining in your hair, and in your eyes  \\r\\n  \\r\\nAnd just a little way behind that smile of yours  \\r\\nI see another one, oh so far away  \\r\\nIf only for one second, I could hold you close to me  \\r\\nWhen the Master calls for me again  \\r\\nThere's nothing I can say, or I can do  \\r\\n  \\r\\nGoodbye, my love  \\r\\nTime has come to say farewell  \\r\\nI hear the call again  \\r\\nGoodbye to the world  \\r\\nI've shouted for so long  \\r\\nOh there's so much my love, that I can never say  \\r\\n  \\r\\nAnd in a little while, in a little while  \\r\\nThere's nothing left to see  \\r\\n  \\r\\nAs the years go by and I have not returned  \\r\\nAnd the night has come, falling all around  \\r\\nOoh if you count the stars you'll know  \\r\\nHow many have gone out  \\r\\nAnd when the Master calls for me again  \\r\\nThere's nothing that I can say  \\r\\nOr I can do  \\r\\n  \\r\\nStand in the sun  \\r\\nShut your eyes and feel the world  \\r\\nIt's changing every day  \\r\\nGoodbye my love  \\r\\nEach day will seem so long  \\r\\nOoh there's so much I feel, that I can never say  \\r\\n  \\r\\nI can't see you  \\r\\nI can't feel you anymore  \\r\\nI've just a memory of that open door\\r\\n\\r\\n\""
      ]
     },
     "execution_count": 52,
     "metadata": {},
     "output_type": "execute_result"
    }
   ],
   "source": [
    "df['text'][0]"
   ]
  },
  {
   "cell_type": "code",
   "execution_count": 53,
   "id": "4c1e8320-8cf0-450a-990f-d582355b69fa",
   "metadata": {},
   "outputs": [],
   "source": [
    "df = df.sample(5000)"
   ]
  },
  {
   "cell_type": "code",
   "execution_count": 54,
   "id": "40b5e96d-9349-412c-a3da-e6a1728c85f3",
   "metadata": {},
   "outputs": [
    {
     "data": {
      "text/plain": [
       "(5000, 3)"
      ]
     },
     "execution_count": 54,
     "metadata": {},
     "output_type": "execute_result"
    }
   ],
   "source": [
    "df.shape"
   ]
  },
  {
   "cell_type": "markdown",
   "id": "dd5f55a2-ae58-4b0d-9acb-703e3609e1f9",
   "metadata": {},
   "source": [
    "# Text cleaning"
   ]
  },
  {
   "cell_type": "code",
   "execution_count": 55,
   "id": "217fb3cf-f61b-4293-94a8-f7e727593ee3",
   "metadata": {},
   "outputs": [],
   "source": [
    "df['text'] = df['text'].str.lower().replace(r'^\\w\\s', ' ').replace(r'\\n', ' ', regex = True)"
   ]
  },
  {
   "cell_type": "code",
   "execution_count": 56,
   "id": "61c35510-7993-4a03-a0a4-4fe461285d60",
   "metadata": {},
   "outputs": [
    {
     "data": {
      "text/html": [
       "<div>\n",
       "<style scoped>\n",
       "    .dataframe tbody tr th:only-of-type {\n",
       "        vertical-align: middle;\n",
       "    }\n",
       "\n",
       "    .dataframe tbody tr th {\n",
       "        vertical-align: top;\n",
       "    }\n",
       "\n",
       "    .dataframe thead th {\n",
       "        text-align: right;\n",
       "    }\n",
       "</style>\n",
       "<table border=\"1\" class=\"dataframe\">\n",
       "  <thead>\n",
       "    <tr style=\"text-align: right;\">\n",
       "      <th></th>\n",
       "      <th>artist</th>\n",
       "      <th>song</th>\n",
       "      <th>text</th>\n",
       "    </tr>\n",
       "  </thead>\n",
       "  <tbody>\n",
       "    <tr>\n",
       "      <th>2242</th>\n",
       "      <td>Ten Years After</td>\n",
       "      <td>I May Be Wrong, But I Won't Be Wrong Always</td>\n",
       "      <td>tell me baby, tell what's on your mind  \\r tel...</td>\n",
       "    </tr>\n",
       "    <tr>\n",
       "      <th>2327</th>\n",
       "      <td>Billy Joel</td>\n",
       "      <td>Big Man On Mulberry Street</td>\n",
       "      <td>why can't i lay low  \\r why can't i say what i...</td>\n",
       "    </tr>\n",
       "    <tr>\n",
       "      <th>2576</th>\n",
       "      <td>Mazzy Star</td>\n",
       "      <td>Look On Down From The Bridge</td>\n",
       "      <td>look on down from the bridge  \\r there's still...</td>\n",
       "    </tr>\n",
       "    <tr>\n",
       "      <th>1824</th>\n",
       "      <td>Chaka Khan</td>\n",
       "      <td>I Can't Be Loved</td>\n",
       "      <td>i've been thinking 'bout yu, oh baby  \\r and i...</td>\n",
       "    </tr>\n",
       "    <tr>\n",
       "      <th>1618</th>\n",
       "      <td>Our Lady Peace</td>\n",
       "      <td>Not Enough</td>\n",
       "      <td>there's nothing you can say  \\r nothing you ca...</td>\n",
       "    </tr>\n",
       "  </tbody>\n",
       "</table>\n",
       "</div>"
      ],
      "text/plain": [
       "               artist                                         song  \\\n",
       "2242  Ten Years After  I May Be Wrong, But I Won't Be Wrong Always   \n",
       "2327       Billy Joel                   Big Man On Mulberry Street   \n",
       "2576       Mazzy Star                 Look On Down From The Bridge   \n",
       "1824       Chaka Khan                             I Can't Be Loved   \n",
       "1618   Our Lady Peace                                   Not Enough   \n",
       "\n",
       "                                                   text  \n",
       "2242  tell me baby, tell what's on your mind  \\r tel...  \n",
       "2327  why can't i lay low  \\r why can't i say what i...  \n",
       "2576  look on down from the bridge  \\r there's still...  \n",
       "1824  i've been thinking 'bout yu, oh baby  \\r and i...  \n",
       "1618  there's nothing you can say  \\r nothing you ca...  "
      ]
     },
     "execution_count": 56,
     "metadata": {},
     "output_type": "execute_result"
    }
   ],
   "source": [
    "df.tail(5)"
   ]
  },
  {
   "cell_type": "code",
   "execution_count": 57,
   "id": "bdeef5c5-249a-4177-a8b5-5bde0a5178a2",
   "metadata": {},
   "outputs": [],
   "source": [
    "import nltk\n",
    "from nltk.stem.porter import PorterStemmer\n",
    "from sklearn.feature_extraction.text import TfidfVectorizer\n",
    "from sklearn.metrics.pairwise import cosine_similarity\n",
    "import pickle\n"
   ]
  },
  {
   "cell_type": "code",
   "execution_count": 58,
   "id": "e3e47970-122f-4140-81f3-34a99a4f4dc7",
   "metadata": {},
   "outputs": [],
   "source": [
    "from nltk.stem.porter import PorterStemmer\n",
    "stemmer = PorterStemmer()\n",
    "\n",
    "def token(txt):\n",
    "    token = nltk.word_tokenize(txt)\n",
    "    a = [stemmer.stem(w) for w in token]\n",
    "    return \" \".join(a)"
   ]
  },
  {
   "cell_type": "code",
   "execution_count": 59,
   "id": "4fbcbf60-6b9e-43b2-9de6-f9434a33fcd5",
   "metadata": {},
   "outputs": [
    {
     "data": {
      "text/plain": [
       "'you are beauti , beauti'"
      ]
     },
     "execution_count": 59,
     "metadata": {},
     "output_type": "execute_result"
    }
   ],
   "source": [
    "token(\"you are beautiful, beauty\")"
   ]
  },
  {
   "cell_type": "code",
   "execution_count": 60,
   "id": "50a2fc21-43c3-4ecd-990d-f24abc537e3f",
   "metadata": {},
   "outputs": [
    {
     "data": {
      "text/plain": [
       "1950    there 's no hold me back i 'm not driven by fe...\n",
       "2145    if i touch myself the way you touch me if i co...\n",
       "3298    ray charl jimmi lewi ( indent ) [ both togeth ...\n",
       "4761    in the grand way she love me the way she hold ...\n",
       "3654    stand here in front of the mirror it gon na be...\n",
       "                              ...                        \n",
       "2242    tell me babi , tell what 's on your mind tell ...\n",
       "2327    whi ca n't i lay low whi ca n't i say what i m...\n",
       "2576    look on down from the bridg there 's still fou...\n",
       "1824    i 've been think 'bout yu , oh babi and i wond...\n",
       "1618    there 's noth you can say noth you can do ther...\n",
       "Name: text, Length: 5000, dtype: object"
      ]
     },
     "execution_count": 60,
     "metadata": {},
     "output_type": "execute_result"
    }
   ],
   "source": [
    "df['text'].apply(lambda x : token(x))"
   ]
  },
  {
   "cell_type": "code",
   "execution_count": 61,
   "id": "74417ae3-6232-46f8-8512-00c6650bd49d",
   "metadata": {},
   "outputs": [],
   "source": [
    "from sklearn.feature_extraction.text import TfidfVectorizer\n",
    "from sklearn.metrics.pairwise import cosine_similarity"
   ]
  },
  {
   "cell_type": "code",
   "execution_count": 62,
   "id": "7e620847-4a1b-4fa5-8901-906930e44520",
   "metadata": {},
   "outputs": [],
   "source": [
    "tfidvector = TfidfVectorizer(analyzer='word',stop_words='english')\n",
    "matrix = tfidvector.fit_transform(df['text'])\n",
    "similarity = cosine_similarity(matrix)"
   ]
  },
  {
   "cell_type": "code",
   "execution_count": 63,
   "id": "0ac0654c-53ed-4c35-96ba-60c739013bbc",
   "metadata": {},
   "outputs": [
    {
     "data": {
      "text/plain": [
       "array([1.        , 0.23852198, 0.11332761, ..., 0.03409878, 0.12293083,\n",
       "       0.09636077])"
      ]
     },
     "execution_count": 63,
     "metadata": {},
     "output_type": "execute_result"
    }
   ],
   "source": [
    "similarity[0]"
   ]
  },
  {
   "cell_type": "code",
   "execution_count": 68,
   "id": "186c2f8e-2a04-47a7-9138-d0be1f4b074e",
   "metadata": {},
   "outputs": [
    {
     "data": {
      "text/html": [
       "<div>\n",
       "<style scoped>\n",
       "    .dataframe tbody tr th:only-of-type {\n",
       "        vertical-align: middle;\n",
       "    }\n",
       "\n",
       "    .dataframe tbody tr th {\n",
       "        vertical-align: top;\n",
       "    }\n",
       "\n",
       "    .dataframe thead th {\n",
       "        text-align: right;\n",
       "    }\n",
       "</style>\n",
       "<table border=\"1\" class=\"dataframe\">\n",
       "  <thead>\n",
       "    <tr style=\"text-align: right;\">\n",
       "      <th></th>\n",
       "      <th>artist</th>\n",
       "      <th>song</th>\n",
       "      <th>text</th>\n",
       "    </tr>\n",
       "  </thead>\n",
       "  <tbody>\n",
       "    <tr>\n",
       "      <th>0</th>\n",
       "      <td>Genesis</td>\n",
       "      <td>Open Door</td>\n",
       "      <td>i see your smiling face, by the open door  \\r ...</td>\n",
       "    </tr>\n",
       "  </tbody>\n",
       "</table>\n",
       "</div>"
      ],
      "text/plain": [
       "    artist       song                                               text\n",
       "0  Genesis  Open Door  i see your smiling face, by the open door  \\r ..."
      ]
     },
     "execution_count": 68,
     "metadata": {},
     "output_type": "execute_result"
    }
   ],
   "source": [
    "df[df['song'] == 'Open Door']"
   ]
  },
  {
   "cell_type": "code",
   "execution_count": 69,
   "id": "8ecd3ee7-1b18-4aac-a460-c53ef3ea5954",
   "metadata": {},
   "outputs": [],
   "source": [
    "def recommendation(song_df):\n",
    "    idx = df[df['song'] == song_df].index[0]\n",
    "    distances = sorted(list(enumerate(similarity[idx])),reverse=True,key=lambda x:x[1])\n",
    "    \n",
    "    songs = []\n",
    "    for m_id in distances[1:21]:\n",
    "        songs.append(df.iloc[m_id[0]].song)\n",
    "        \n",
    "    return songs"
   ]
  },
  {
   "cell_type": "code",
   "execution_count": 71,
   "id": "943903f1-4ba3-4e27-811e-530fba3d2572",
   "metadata": {},
   "outputs": [
    {
     "data": {
      "text/plain": [
       "['Stray Heart',\n",
       " 'Gypsy',\n",
       " 'Girls And Boys',\n",
       " 'Here Comes The Hammer',\n",
       " 'Deliverance',\n",
       " \"I Can't Understand It\",\n",
       " 'Because We Can',\n",
       " 'Tell Me What You Want',\n",
       " 'One Night Town',\n",
       " 'Does He Know?',\n",
       " 'Last Chance',\n",
       " 'Million Miles Away',\n",
       " 'Need Her Love',\n",
       " 'Emotion',\n",
       " 'Paradise',\n",
       " 'Need Your Love',\n",
       " 'Standing O',\n",
       " 'I Just Got Some',\n",
       " 'Greatest Show On Earth',\n",
       " 'One More Time']"
      ]
     },
     "execution_count": 71,
     "metadata": {},
     "output_type": "execute_result"
    }
   ],
   "source": [
    "recommendation('Open Door')"
   ]
  },
  {
   "cell_type": "code",
   "execution_count": 73,
   "id": "8d77eac4-3c65-474b-8a4c-8c067497ab12",
   "metadata": {},
   "outputs": [],
   "source": [
    "import pickle\n",
    "\n",
    "# Save the similarity array\n",
    "with open('similarity.pkl', 'wb') as file:\n",
    "    pickle.dump(similarity, file)\n",
    "\n",
    "# Save the dataframe\n",
    "with open('df.pkl', 'wb') as file:\n",
    "    pickle.dump(df, file)\n"
   ]
  }
 ],
 "metadata": {
  "kernelspec": {
   "display_name": "Python 3 (ipykernel)",
   "language": "python",
   "name": "python3"
  },
  "language_info": {
   "codemirror_mode": {
    "name": "ipython",
    "version": 3
   },
   "file_extension": ".py",
   "mimetype": "text/x-python",
   "name": "python",
   "nbconvert_exporter": "python",
   "pygments_lexer": "ipython3",
   "version": "3.12.4"
  }
 },
 "nbformat": 4,
 "nbformat_minor": 5
}
